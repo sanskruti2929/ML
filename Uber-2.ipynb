{
 "cells": [
  {
   "cell_type": "markdown",
   "id": "1c0633f5-336c-4362-8c97-0bb4f4c0df6d",
   "metadata": {},
   "source": [
    "Regression Analysis:(Any one)\r\n",
    "A. Predict the price of the Uber ride from a given pickup point to the agreed drop-off \r\n",
    "location. Perform following tasks:\r\n",
    "1. Pre-process the dataset.\r\n",
    "2. Identify outliers.\r\n",
    "3. Check the correlation.\r\n",
    "4. Implement linear regression and ridge, Lasso regression models.\r\n",
    "5. Evaluate the models and compare their respective scores like R2, RMSE, etc.\r\n",
    "Dataset link: https://www.kaggle.com/datasets/yasserh/uber-fares-dataset"
   ]
  },
  {
   "cell_type": "code",
   "execution_count": 1,
   "id": "066dd798-114f-45ae-84c7-5239d3dcec50",
   "metadata": {},
   "outputs": [],
   "source": [
    "# Import necessary libraries\n",
    "import pandas as pd\n",
    "import numpy as np\n",
    "import matplotlib.pyplot as plt\n",
    "import seaborn as sns\n",
    "from sklearn.model_selection import train_test_split\n",
    "from sklearn.linear_model import LinearRegression, Ridge, Lasso\n",
    "from sklearn.metrics import mean_squared_error, r2_score\n",
    "from sklearn.preprocessing import StandardScaler"
   ]
  },
  {
   "cell_type": "code",
   "execution_count": 2,
   "id": "91c8a43b-f824-4284-8ac9-1e33fbde96d9",
   "metadata": {},
   "outputs": [
    {
     "data": {
      "text/html": [
       "<div>\n",
       "<style scoped>\n",
       "    .dataframe tbody tr th:only-of-type {\n",
       "        vertical-align: middle;\n",
       "    }\n",
       "\n",
       "    .dataframe tbody tr th {\n",
       "        vertical-align: top;\n",
       "    }\n",
       "\n",
       "    .dataframe thead th {\n",
       "        text-align: right;\n",
       "    }\n",
       "</style>\n",
       "<table border=\"1\" class=\"dataframe\">\n",
       "  <thead>\n",
       "    <tr style=\"text-align: right;\">\n",
       "      <th></th>\n",
       "      <th>Unnamed: 0</th>\n",
       "      <th>key</th>\n",
       "      <th>fare_amount</th>\n",
       "      <th>pickup_datetime</th>\n",
       "      <th>pickup_longitude</th>\n",
       "      <th>pickup_latitude</th>\n",
       "      <th>dropoff_longitude</th>\n",
       "      <th>dropoff_latitude</th>\n",
       "      <th>passenger_count</th>\n",
       "    </tr>\n",
       "  </thead>\n",
       "  <tbody>\n",
       "    <tr>\n",
       "      <th>0</th>\n",
       "      <td>24238194</td>\n",
       "      <td>2015-05-07 19:52:06.0000003</td>\n",
       "      <td>7.5</td>\n",
       "      <td>2015-05-07 19:52:06 UTC</td>\n",
       "      <td>-73.999817</td>\n",
       "      <td>40.738354</td>\n",
       "      <td>-73.999512</td>\n",
       "      <td>40.723217</td>\n",
       "      <td>1</td>\n",
       "    </tr>\n",
       "    <tr>\n",
       "      <th>1</th>\n",
       "      <td>27835199</td>\n",
       "      <td>2009-07-17 20:04:56.0000002</td>\n",
       "      <td>7.7</td>\n",
       "      <td>2009-07-17 20:04:56 UTC</td>\n",
       "      <td>-73.994355</td>\n",
       "      <td>40.728225</td>\n",
       "      <td>-73.994710</td>\n",
       "      <td>40.750325</td>\n",
       "      <td>1</td>\n",
       "    </tr>\n",
       "    <tr>\n",
       "      <th>2</th>\n",
       "      <td>44984355</td>\n",
       "      <td>2009-08-24 21:45:00.00000061</td>\n",
       "      <td>12.9</td>\n",
       "      <td>2009-08-24 21:45:00 UTC</td>\n",
       "      <td>-74.005043</td>\n",
       "      <td>40.740770</td>\n",
       "      <td>-73.962565</td>\n",
       "      <td>40.772647</td>\n",
       "      <td>1</td>\n",
       "    </tr>\n",
       "    <tr>\n",
       "      <th>3</th>\n",
       "      <td>25894730</td>\n",
       "      <td>2009-06-26 08:22:21.0000001</td>\n",
       "      <td>5.3</td>\n",
       "      <td>2009-06-26 08:22:21 UTC</td>\n",
       "      <td>-73.976124</td>\n",
       "      <td>40.790844</td>\n",
       "      <td>-73.965316</td>\n",
       "      <td>40.803349</td>\n",
       "      <td>3</td>\n",
       "    </tr>\n",
       "    <tr>\n",
       "      <th>4</th>\n",
       "      <td>17610152</td>\n",
       "      <td>2014-08-28 17:47:00.000000188</td>\n",
       "      <td>16.0</td>\n",
       "      <td>2014-08-28 17:47:00 UTC</td>\n",
       "      <td>-73.925023</td>\n",
       "      <td>40.744085</td>\n",
       "      <td>-73.973082</td>\n",
       "      <td>40.761247</td>\n",
       "      <td>5</td>\n",
       "    </tr>\n",
       "  </tbody>\n",
       "</table>\n",
       "</div>"
      ],
      "text/plain": [
       "   Unnamed: 0                            key  fare_amount  \\\n",
       "0    24238194    2015-05-07 19:52:06.0000003          7.5   \n",
       "1    27835199    2009-07-17 20:04:56.0000002          7.7   \n",
       "2    44984355   2009-08-24 21:45:00.00000061         12.9   \n",
       "3    25894730    2009-06-26 08:22:21.0000001          5.3   \n",
       "4    17610152  2014-08-28 17:47:00.000000188         16.0   \n",
       "\n",
       "           pickup_datetime  pickup_longitude  pickup_latitude  \\\n",
       "0  2015-05-07 19:52:06 UTC        -73.999817        40.738354   \n",
       "1  2009-07-17 20:04:56 UTC        -73.994355        40.728225   \n",
       "2  2009-08-24 21:45:00 UTC        -74.005043        40.740770   \n",
       "3  2009-06-26 08:22:21 UTC        -73.976124        40.790844   \n",
       "4  2014-08-28 17:47:00 UTC        -73.925023        40.744085   \n",
       "\n",
       "   dropoff_longitude  dropoff_latitude  passenger_count  \n",
       "0         -73.999512         40.723217                1  \n",
       "1         -73.994710         40.750325                1  \n",
       "2         -73.962565         40.772647                1  \n",
       "3         -73.965316         40.803349                3  \n",
       "4         -73.973082         40.761247                5  "
      ]
     },
     "execution_count": 2,
     "metadata": {},
     "output_type": "execute_result"
    }
   ],
   "source": [
    "# Step 1: Load the dataset\n",
    "dataset = r\"C:\\Users\\Sanskruti\\Downloads\\uber.csv\"\n",
    "data = pd.read_csv(dataset)\n",
    "data.head()"
   ]
  },
  {
   "cell_type": "code",
   "execution_count": 3,
   "id": "26dd48c8-3c2f-457b-bd0b-f5ad0963b52c",
   "metadata": {},
   "outputs": [],
   "source": [
    "data_sampled = data.sample(frac=0.1, random_state=42)  # Use 10% of the data"
   ]
  },
  {
   "cell_type": "code",
   "execution_count": 4,
   "id": "0c513647-a8d2-4b25-bfdc-1bd52f7915cc",
   "metadata": {},
   "outputs": [],
   "source": [
    "# Step 2: Pre-process the dataset\n",
    "# Convert pickup and drop-off datetime columns to datetime type\n",
    "data_sampled['pickup_datetime'] = pd.to_datetime(data_sampled['pickup_datetime'])"
   ]
  },
  {
   "cell_type": "code",
   "execution_count": 5,
   "id": "77a49fa2-67a6-47f9-a805-08f0fbc25614",
   "metadata": {},
   "outputs": [],
   "source": [
    "# Extract features from datetime\n",
    "data_sampled['hour'] = data_sampled['pickup_datetime'].dt.hour\n",
    "data_sampled['day'] = data_sampled['pickup_datetime'].dt.day\n",
    "data_sampled['month'] = data_sampled['pickup_datetime'].dt.month\n",
    "data_sampled['year'] = data_sampled['pickup_datetime'].dt.year"
   ]
  },
  {
   "cell_type": "code",
   "execution_count": 6,
   "id": "164d003f-87c5-46de-9438-bbb3a6c20806",
   "metadata": {},
   "outputs": [],
   "source": [
    "# Handle missing values\n",
    "data_sampled = data_sampled.dropna()"
   ]
  },
  {
   "cell_type": "code",
   "execution_count": 7,
   "id": "9a07964e-475b-4ea9-9bd0-1a3f30e9a8bb",
   "metadata": {},
   "outputs": [],
   "source": [
    "# Convert categorical data to numerical data (e.g., convert the 'pickup_location' and 'dropoff_location' to one-hot encoding)\n",
    "data_sampled = pd.get_dummies(data_sampled, drop_first=True, sparse=True)"
   ]
  },
  {
   "cell_type": "code",
   "execution_count": 8,
   "id": "52523c49-f771-4295-b62d-4c1bb3fe3f49",
   "metadata": {},
   "outputs": [
    {
     "data": {
      "image/png": "[encoded data removed]",
      "text/plain": [
       "<Figure size 1000x600 with 1 Axes>"
      ]
     },
     "metadata": {},
     "output_type": "display_data"
    }
   ],
   "source": [
    "# Step 3: Identify outliers using boxplot visualization\n",
    "plt.figure(figsize=(10, 6))\n",
    "sns.boxplot(data['fare_amount'])\n",
    "plt.title('Boxplot for Fare Amount')\n",
    "plt.show()"
   ]
  },
  {
   "cell_type": "code",
   "execution_count": 9,
   "id": "a2d86026-e78c-4c15-8508-3b97f17d11c8",
   "metadata": {},
   "outputs": [],
   "source": [
    "# Removing outliers using IQR\n",
    "Q1 = data_sampled['fare_amount'].quantile(0.25)\n",
    "Q3 = data_sampled['fare_amount'].quantile(0.75)\n",
    "IQR = Q3 - Q1\n",
    "data_sampled = data_sampled[~((data_sampled['fare_amount'] < (Q1 - 1.5 * IQR)) | (data_sampled['fare_amount'] > (Q3 + 1.5 * IQR)))]"
   ]
  },
  {
   "cell_type": "code",
   "execution_count": null,
   "id": "e937f275-b729-4bb2-877c-ee1ae01fa015",
   "metadata": {},
   "outputs": [],
   "source": [
    "# Step 4: Check correlation\n",
    "plt.figure(figsize=(12, 8))\n",
    "sns.heatmap(data_sampled.corr(), annot=True, cmap='coolwarm')\n",
    "plt.title('Correlation Matrix')\n",
    "plt.show()"
   ]
  },
  {
   "cell_type": "code",
   "execution_count": 10,
   "id": "fa6a76e7-3ac0-4dcf-94de-7b181973d347",
   "metadata": {},
   "outputs": [],
   "source": [
    "# Step 5: Split the dataset into features and target variable\n",
    "X = data_sampled.drop(columns=['fare_amount', 'pickup_datetime'])\n",
    "y = data_sampled['fare_amount']"
   ]
  },
  {
   "cell_type": "code",
   "execution_count": 11,
   "id": "3d4ee1e8-6fc4-4409-829d-1504c8d99600",
   "metadata": {},
   "outputs": [],
   "source": [
    "# Step 6: Split the data into training and testing sets\n",
    "X_train, X_test, y_train, y_test = train_test_split(X, y, test_size=0.2, random_state=42)"
   ]
  },
  {
   "cell_type": "code",
   "execution_count": 12,
   "id": "78e4b65a-15c4-455e-bd36-ce1e788b1b74",
   "metadata": {},
   "outputs": [
    {
     "name": "stderr",
     "output_type": "stream",
     "text": [
      "C:\\Users\\Sanskruti\\anaconda3\\Lib\\site-packages\\sklearn\\utils\\validation.py:768: UserWarning: pandas.DataFrame with sparse columns found.It will be converted to a dense numpy array.\n",
      "  warnings.warn(\n",
      "C:\\Users\\Sanskruti\\anaconda3\\Lib\\site-packages\\sklearn\\utils\\validation.py:768: UserWarning: pandas.DataFrame with sparse columns found.It will be converted to a dense numpy array.\n",
      "  warnings.warn(\n",
      "C:\\Users\\Sanskruti\\anaconda3\\Lib\\site-packages\\sklearn\\utils\\validation.py:949: FutureWarning: Allowing arbitrary scalar fill_value in SparseDtype is deprecated. In a future version, the fill_value must be a valid value for the SparseDtype.subtype.\n",
      "  if np.may_share_memory(array, array_orig):\n",
      "C:\\Users\\Sanskruti\\anaconda3\\Lib\\site-packages\\sklearn\\utils\\validation.py:768: UserWarning: pandas.DataFrame with sparse columns found.It will be converted to a dense numpy array.\n",
      "  warnings.warn(\n",
      "C:\\Users\\Sanskruti\\anaconda3\\Lib\\site-packages\\sklearn\\utils\\validation.py:949: FutureWarning: Allowing arbitrary scalar fill_value in SparseDtype is deprecated. In a future version, the fill_value must be a valid value for the SparseDtype.subtype.\n",
      "  if np.may_share_memory(array, array_orig):\n"
     ]
    }
   ],
   "source": [
    "# Step 7: Standardize the features\n",
    "scaler = StandardScaler()\n",
    "X_train_scaled = scaler.fit_transform(X_train)\n",
    "X_test_scaled = scaler.transform(X_test)"
   ]
  },
  {
   "cell_type": "code",
   "execution_count": null,
   "id": "196f2625-53f8-4dad-a1c4-7f31362babee",
   "metadata": {},
   "outputs": [],
   "source": [
    "# Step 8: Implement Linear Regression, Ridge, and Lasso Regression Models\n",
    "# Linear Regression\n",
    "lr = LinearRegression()\n",
    "lr.fit(X_train_scaled, y_train)\n",
    "y_pred_lr = lr.predict(X_test_scaled)"
   ]
  },
  {
   "cell_type": "code",
   "execution_count": null,
   "id": "abfb0680-8e5e-4345-b592-a6d7fd4e4ff8",
   "metadata": {},
   "outputs": [],
   "source": [
    "# Lasso Regression\n",
    "lasso = Lasso(alpha=0.1)\n",
    "lasso.fit(X_train_scaled, y_train)\n",
    "y_pred_lasso = lasso.predict(X_test_scaled)"
   ]
  },
  {
   "cell_type": "code",
   "execution_count": null,
   "id": "862e4888-6141-40a9-8d16-2665109f5b96",
   "metadata": {},
   "outputs": [],
   "source": [
    "# Evaluate Linear Regression\n",
    "evaluate_model(y_test, y_pred_lr, 'Linear Regression')"
   ]
  },
  {
   "cell_type": "code",
   "execution_count": null,
   "id": "8f8009b8-428c-40df-9252-013f523186e2",
   "metadata": {},
   "outputs": [],
   "source": [
    "# Ridge Regression\n",
    "ridge = Ridge(alpha=1.0)\n",
    "ridge.fit(X_train_scaled, y_train)\n",
    "y_pred_ridge = ridge.predict(X_test_scaled)"
   ]
  },
  {
   "cell_type": "code",
   "execution_count": null,
   "id": "23c7f25a-3418-4674-ab1c-542c93d93284",
   "metadata": {},
   "outputs": [],
   "source": [
    "# Evaluate Ridge Regression\n",
    "evaluate_model(y_test, y_pred_ridge, 'Ridge Regression')"
   ]
  },
  {
   "cell_type": "code",
   "execution_count": null,
   "id": "ad22cbc1-5ba0-4f10-8b58-0d866207a10e",
   "metadata": {},
   "outputs": [],
   "source": [
    "# Evaluate Lasso Regression\n",
    "evaluate_model(y_test, y_pred_lasso, 'Lasso Regression')"
   ]
  },
  {
   "cell_type": "code",
   "execution_count": null,
   "id": "b47198a4-392c-4bce-b7cd-b2de9b88700f",
   "metadata": {},
   "outputs": [],
   "source": [
    "# Step 9: Evaluate the Models\n",
    "def evaluate_model(y_true, y_pred, model_name):\n",
    "    mse = mean_squared_error(y_true, y_pred)\n",
    "    rmse = np.sqrt(mse)\n",
    "    r2 = r2_score(y_true, y_pred)\n",
    "    print(f'{model_name} Performance:')\n",
    "    print(f'R² Score: {r2:.4f}')\n",
    "    print(f'RMSE: {rmse:.4f}')\n",
    "    print('-'*30)"
   ]
  },
  {
   "cell_type": "code",
   "execution_count": null,
   "id": "2e933752-d570-426b-a143-37f498440f7c",
   "metadata": {},
   "outputs": [],
   "source": [
    "# Step 10: Compare the models\n",
    "models_comparison = pd.DataFrame({\n",
    "    'Model': ['Linear Regression', 'Ridge Regression', 'Lasso Regression'],\n",
    "    'R² Score': [r2_score(y_test, y_pred_lr), r2_score(y_test, y_pred_ridge), r2_score(y_test, y_pred_lasso)],\n",
    "    'RMSE': [np.sqrt(mean_squared_error(y_test, y_pred_lr)), np.sqrt(mean_squared_error(y_test, y_pred_ridge)), np.sqrt(mean_squared_error(y_test, y_pred_lasso))]\n",
    "})"
   ]
  },
  {
   "cell_type": "code",
   "execution_count": null,
   "id": "7cfaa06e-e146-4a42-b67d-406cb15d75b9",
   "metadata": {},
   "outputs": [],
   "source": [
    "print(models_comparison)"
   ]
  }
 ],
 "metadata": {
  "kernelspec": {
   "display_name": "Python 3 (ipykernel)",
   "language": "python",
   "name": "python3"
  },
  "language_info": {
   "codemirror_mode": {
    "name": "ipython",
    "version": 3
   },
   "file_extension": ".py",
   "mimetype": "text/x-python",
   "name": "python",
   "nbconvert_exporter": "python",
   "pygments_lexer": "ipython3",
   "version": "3.11.7"
  }
 },
 "nbformat": 4,
 "nbformat_minor": 5
}
